{
 "cells": [
  {
   "cell_type": "code",
   "execution_count": 46,
   "id": "da5a8c35",
   "metadata": {},
   "outputs": [],
   "source": [
    "def collatz(x, steps=0):\n",
    "    # Returns number of recursion steps from X to 1.\n",
    "    if x<=2:\n",
    "        return steps+1\n",
    "    if x%2==0:\n",
    "        steps+=1\n",
    "        return collatz(x//2, steps)\n",
    "    elif x%2==1:\n",
    "        steps+=1\n",
    "        return collatz(x*3+1, steps)"
   ]
  },
  {
   "cell_type": "code",
   "execution_count": 50,
   "id": "e59c2ee2",
   "metadata": {},
   "outputs": [
    {
     "data": {
      "text/plain": [
       "7"
      ]
     },
     "execution_count": 50,
     "metadata": {},
     "output_type": "execute_result"
    }
   ],
   "source": [
    "collatz(3)"
   ]
  },
  {
   "cell_type": "code",
   "execution_count": 47,
   "id": "b1da46f7",
   "metadata": {},
   "outputs": [
    {
     "name": "stdout",
     "output_type": "stream",
     "text": [
      "4:2=3:7,2:1,1:1\n",
      "7:16=6:8,5:5,4:2\n",
      "10:6=9:19,8:3,7:16\n",
      "13:9=12:9,11:14,10:6\n",
      "16:4=15:17,14:17,13:9\n",
      "19:20=18:20,17:12,16:4\n",
      "22:15=21:7,20:7,19:20\n",
      "25:23=24:10,23:15,22:15\n",
      "28:18=27:111,26:10,25:23\n",
      "31:106=30:18,29:18,28:18\n"
     ]
    }
   ],
   "source": [
    "for i in range(4,33,3):\n",
    "    print(f\"{i}:{collatz(i)}={i-1}:{collatz(i-1)},{i-2}:{collatz(i-2)},{i-3}:{collatz(i-3)}\")"
   ]
  },
  {
   "cell_type": "code",
   "execution_count": 13,
   "id": "0c51037a",
   "metadata": {},
   "outputs": [
    {
     "name": "stdout",
     "output_type": "stream",
     "text": [
      "5:5=2,7,1\n",
      "7:16=8,5,2\n",
      "11:14=6,19,3\n",
      "17:12=4,17,17\n",
      "19:20=20,12,4\n",
      "23:15=15,7,7\n",
      "29:18=18,111,10\n",
      "31:106=18,18,18\n",
      "37:21=21,13,13\n"
     ]
    }
   ],
   "source": [
    "# PRIMES\n",
    "for i in [5,7,11,17,19,23,29,31,37]:\n",
    "    print(f\"{i}:{collatz(i)}={collatz(i-1)},{collatz(i-2)},{collatz(i-3)}\")"
   ]
  },
  {
   "cell_type": "code",
   "execution_count": 15,
   "id": "5c6ffd94",
   "metadata": {},
   "outputs": [
    {
     "name": "stdout",
     "output_type": "stream",
     "text": [
      "C(5):5=2,7,1\n",
      "C(7):16=8,5,2\n",
      "C(11):14=6,19,3\n",
      "C(17):12=4,17,17\n",
      "C(19):20=20,12,4\n",
      "C(23):15=15,7,7\n",
      "C(27):111=10,23,10\n",
      "C(31):106=18,18,18\n",
      "C(37):21=21,13,13\n"
     ]
    }
   ],
   "source": [
    "# SPECIALS\n",
    "for i in [5,7,11,17,19,23,27,31,37]:\n",
    "    print(f\"C({i}):{collatz(i)}={collatz(i-1)},{collatz(i-2)},{collatz(i-3)}\")"
   ]
  },
  {
   "cell_type": "code",
   "execution_count": 146,
   "id": "97e3717b",
   "metadata": {},
   "outputs": [],
   "source": [
    "def print_triple_c_set(x):\n",
    "    cx = collatz(x)\n",
    "    cx2 = cx % 2\n",
    "    i = collatz(x-1)\n",
    "    i2 = i % 2\n",
    "    ii = collatz(x-2)\n",
    "    ii2 = ii % 2\n",
    "    iii = collatz(x-3)\n",
    "    iii2 = iii % 2\n",
    "    i_set = {i,ii,iii}\n",
    "    maxi1 = max(i_set)\n",
    "    max2set = i_set - set((maxi1,))\n",
    "    if not max2set:\n",
    "        max2set = i_set\n",
    "    maxi2 = max(max2set)\n",
    "    max3set = max2set - {maxi2}\n",
    "    if not max3set:\n",
    "        max3set = max2set\n",
    "    maxi3 = max(max3set)\n",
    "    \n",
    "    maxidic = {\n",
    "        i: 0,\n",
    "        ii: 0,\n",
    "        iii: 0\n",
    "    }\n",
    "    \n",
    "    maxidic[maxi1] = 2\n",
    "    maxidic[maxi2] = 1\n",
    "    maxidic[maxi3] = 0\n",
    "    #print(f\"C({x:02d}):{cx:03d}={i},{ii},{iii}\")\n",
    "    print(f\"C({x:02d}):{cx:03d}={maxidic[i]}{i2},{maxidic[ii]}{ii2},{maxidic[iii]}{iii2}\")#  +{0.01*cx/(i2+0.01)}\")\n",
    "    #print(f\"C({x:02d}):{cx:03d}={i2},{ii2},{iii2}  +{0.01*cx/(i2+0.01)}\")"
   ]
  },
  {
   "cell_type": "code",
   "execution_count": 147,
   "id": "a771f2ed",
   "metadata": {},
   "outputs": [
    {
     "name": "stdout",
     "output_type": "stream",
     "text": [
      "C(05):005=10,21,01\n"
     ]
    }
   ],
   "source": [
    "print_triple_c_set(5)"
   ]
  },
  {
   "cell_type": "code",
   "execution_count": 148,
   "id": "c08c0079",
   "metadata": {},
   "outputs": [
    {
     "name": "stdout",
     "output_type": "stream",
     "text": [
      "C(04):002=21,01,01\n",
      "C(05):005=10,21,01\n",
      "C(06):008=11,00,21\n",
      "C(07):016=20,11,00\n",
      "C(08):003=20,10,01\n",
      "C(09):019=01,20,10\n",
      "C(10):006=21,01,10\n",
      "C(11):014=10,21,01\n",
      "C(12):009=10,00,21\n",
      "C(13):009=11,20,00\n",
      "C(14):017=01,01,20\n",
      "C(15):017=21,01,01\n",
      "C(16):004=21,21,01\n",
      "C(17):012=00,21,21\n",
      "C(18):020=10,00,21\n",
      "C(19):020=20,10,00\n",
      "C(20):007=20,20,00\n",
      "C(21):007=01,20,20\n",
      "C(22):015=01,01,20\n",
      "C(23):015=21,01,01\n",
      "C(24):010=21,21,01\n",
      "C(25):023=00,21,21\n",
      "C(26):010=21,00,11\n",
      "C(27):111=00,21,00\n",
      "C(28):018=21,00,11\n",
      "C(29):018=10,21,00\n",
      "C(30):018=00,00,21\n",
      "C(31):106=00,00,00\n",
      "C(32):005=20,00,00\n",
      "C(33):026=01,20,10\n",
      "C(34):013=10,01,20\n",
      "C(35):013=11,20,01\n",
      "C(36):021=01,01,20\n",
      "C(37):021=21,01,01\n",
      "C(38):021=21,21,01\n",
      "C(39):034=01,01,01\n",
      "C(40):008=20,01,01\n",
      "C(41):109=00,20,11\n",
      "C(42):008=21,00,10\n"
     ]
    }
   ],
   "source": [
    "# up to 42\n",
    "for i in range(4,43):\n",
    "    print_triple_c_set(i)"
   ]
  },
  {
   "cell_type": "code",
   "execution_count": null,
   "id": "315d4be5",
   "metadata": {},
   "outputs": [],
   "source": []
  }
 ],
 "metadata": {
  "kernelspec": {
   "display_name": "Python 3 (ipykernel)",
   "language": "python",
   "name": "python3"
  },
  "language_info": {
   "codemirror_mode": {
    "name": "ipython",
    "version": 3
   },
   "file_extension": ".py",
   "mimetype": "text/x-python",
   "name": "python",
   "nbconvert_exporter": "python",
   "pygments_lexer": "ipython3",
   "version": "3.10.8"
  }
 },
 "nbformat": 4,
 "nbformat_minor": 5
}
